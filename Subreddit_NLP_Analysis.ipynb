{
 "cells": [
  {
   "cell_type": "markdown",
   "metadata": {},
   "source": [
    "This analysis will focus on the \"Politics\" and \"Conservative\" subreddits. These subreddits both cover U.S. politics but from vastly different perspectives, citing (usually) different news sources. Each subreddit is comprised exclusively of links to news articles in which the title of the post is the verbatim title of the article that is being linked. While the two subreddits will generally contain stories on the same topics topics, the news sources tend to have very different perspectives on current events. We will check to see if this is reflected in the titles of the articles."
   ]
  },
  {
   "cell_type": "code",
   "execution_count": 1,
   "metadata": {},
   "outputs": [],
   "source": [
    "import pandas as pd\n",
    "import numpy as np\n",
    "import matplotlib.pyplot as plt\n",
    "import datetime as dt\n",
    "import time\n",
    "import requests\n",
    "\n",
    "from sklearn.linear_model import LogisticRegression\n",
    "from sklearn.model_selection import train_test_split, cross_val_score, GridSearchCV\n",
    "from sklearn.feature_extraction.text import CountVectorizer, TfidfVectorizer\n",
    "from sklearn.ensemble import GradientBoostingClassifier, ExtraTreesClassifier, AdaBoostClassifier, VotingClassifier, BaggingClassifier, RandomForestClassifier\n",
    "\n",
    "from sklearn import metrics\n",
    "from sklearn.metrics import confusion_matrix, plot_confusion_matrix, accuracy_score, plot_roc_curve, roc_auc_score, recall_score, precision_score, f1_score\n",
    "from sklearn.feature_extraction import text\n",
    "from sklearn.pipeline import Pipeline\n",
    "from sklearn.naive_bayes import MultinomialNB\n",
    "from sklearn.preprocessing import StandardScaler\n",
    "from sklearn.neighbors import KNeighborsClassifier\n",
    "from sklearn.tree import DecisionTreeClassifier\n",
    "\n",
    "from nltk.corpus import stopwords\n",
    "from nltk import download\n",
    "import re"
   ]
  },
  {
   "cell_type": "markdown",
   "metadata": {},
   "source": [
    "The information contained in these subreddits is largely contained within the \"title\"\n",
    "of the post as opposed to the body. \n",
    "\n",
    "Because of this, we will take the function used in\n",
    " the project 3 demo and change full = full.loc[full['is_self'] == True] to False. \n",
    " \n",
    " This will allow us to return the posts with actual useful information. In the \"Politics\" and\n",
    " \"Conservative\" subreddits, it is actually part of the subreddit rules for posts to be \n",
    " titled based on the exact name of an article's link."
   ]
  },
  {
   "cell_type": "code",
   "execution_count": 4,
   "metadata": {},
   "outputs": [],
   "source": [
    "def query_pushshift(subreddit, kind = 'submission', day_window = 1, n = 200):\n",
    "    SUBFIELDS = ['title', 'selftext', 'subreddit', 'created_utc', 'author', 'num_comments', 'score', 'is_self']\n",
    "    \n",
    "    BASE_URL = f\"https://api.pushshift.io/reddit/search/{kind}\"\n",
    "    stem = f\"{BASE_URL}?subreddit={subreddit}&size=500\"\n",
    "    \n",
    "    posts = []\n",
    "    \n",
    "    print('Loading, please wait....')\n",
    "    for i in range(0, n + 1):\n",
    "        URL = \"{}&after={}d\".format(stem, day_window * i)\n",
    "        response = requests.get(URL)\n",
    "        assert response.status_code == 200\n",
    "        mine = response.json()['data']\n",
    "        df = pd.DataFrame.from_dict(mine)\n",
    "        posts.append(df)\n",
    "        time.sleep(2)\n",
    "    \n",
    "    full = pd.concat(posts, sort=False)\n",
    "    \n",
    "    if kind == \"submission\":\n",
    "        full = full[SUBFIELDS]\n",
    "        full.drop_duplicates(inplace = True)\n",
    "        full = full.loc[full['is_self'] == False]\n",
    "\n",
    "    full['timestamp'] = full[\"created_utc\"].map(dt.date.fromtimestamp)\n",
    "    \n",
    "    print(\"Query Complete!\")    \n",
    "    return full.reset_index(drop = True)"
   ]
  },
  {
   "cell_type": "code",
   "execution_count": 5,
   "metadata": {},
   "outputs": [],
   "source": [
    "# Running the function on the \"Politics\" subreddit and saving the results as a dataframe.\n",
    "\n",
    "# pol = query_pushshift(subreddit = 'politics')"
   ]
  },
  {
   "cell_type": "code",
   "execution_count": 6,
   "metadata": {},
   "outputs": [],
   "source": [
    "# Doing the same thing for the Conservative subreddit. Will check to see if there are less\n",
    "# observations (the politics subreddit is significantly more popular than the Conservative\n",
    "# subreddit.)\n",
    "\n",
    "# con = query_pushshift(subreddit = 'conservative')"
   ]
  },
  {
   "cell_type": "code",
   "execution_count": 7,
   "metadata": {},
   "outputs": [],
   "source": [
    "# We will save these dataframes as csv's so we don't have to rerun the API query every \n",
    "# time the project is re-opened.\n",
    "\n",
    "# pol.to_csv('./data/politics.csv', index = False)\n",
    "# con.to_csv('./data/conservative.csv', index = False)"
   ]
  },
  {
   "cell_type": "code",
   "execution_count": 8,
   "metadata": {},
   "outputs": [],
   "source": [
    "# For future usage, we will now read in the csv's we have just created.\n",
    "pol = pd.read_csv('./data/politics.csv')\n",
    "con = pd.read_csv('./data/conservative.csv')"
   ]
  },
  {
   "cell_type": "code",
   "execution_count": 9,
   "metadata": {},
   "outputs": [
    {
     "data": {
      "text/plain": [
       "((19807, 9), (16164, 9))"
      ]
     },
     "execution_count": 9,
     "metadata": {},
     "output_type": "execute_result"
    }
   ],
   "source": [
    "# Surprisingly, the datasets are fairly similar in size. We can still ensure classes aren't\n",
    "# imbalanced when putting the dataframes together, but I had expected the politics\n",
    "# subreddit to contain more observations than the conservative subreddit.\n",
    "pol.shape, con.shape"
   ]
  },
  {
   "cell_type": "code",
   "execution_count": null,
   "metadata": {},
   "outputs": [],
   "source": []
  },
  {
   "cell_type": "markdown",
   "metadata": {},
   "source": [
    "DATA PREPARATION"
   ]
  },
  {
   "cell_type": "code",
   "execution_count": 10,
   "metadata": {},
   "outputs": [
    {
     "data": {
      "text/plain": [
       "title               0\n",
       "selftext        19111\n",
       "subreddit           0\n",
       "created_utc         0\n",
       "author              0\n",
       "num_comments        0\n",
       "score               0\n",
       "is_self             0\n",
       "timestamp           0\n",
       "dtype: int64"
      ]
     },
     "execution_count": 10,
     "metadata": {},
     "output_type": "execute_result"
    }
   ],
   "source": [
    "# The null values make sense, as it is against the subreddit's rules to include text\n",
    "# within the body of the post. We can simply remove this column from both dataframes.\n",
    "\n",
    "pol.isnull().sum()"
   ]
  },
  {
   "cell_type": "code",
   "execution_count": 11,
   "metadata": {},
   "outputs": [
    {
     "data": {
      "text/plain": [
       "title               0\n",
       "selftext        15858\n",
       "subreddit           0\n",
       "created_utc         0\n",
       "author              0\n",
       "num_comments        0\n",
       "score               0\n",
       "is_self             0\n",
       "timestamp           0\n",
       "dtype: int64"
      ]
     },
     "execution_count": 11,
     "metadata": {},
     "output_type": "execute_result"
    }
   ],
   "source": [
    "con.isnull().sum()"
   ]
  },
  {
   "cell_type": "code",
   "execution_count": 15,
   "metadata": {},
   "outputs": [],
   "source": [
    "# Dropping the Unnamed: 0 column from both dataframes, along with the is_self column and\n",
    "# created_utc columns since we know that is_self is false and the created_utc will not\n",
    "# be used.\n",
    "\n",
    "pol.drop(columns = ['Unnamed: 0', 'selftext','is_self','created_utc'], inplace = True)\n",
    "con.drop(columns = ['Unnamed: 0', 'selftext','is_self','created_utc'], inplace = True)"
   ]
  },
  {
   "cell_type": "code",
   "execution_count": 13,
   "metadata": {},
   "outputs": [
    {
     "data": {
      "text/html": [
       "<div>\n",
       "<style scoped>\n",
       "    .dataframe tbody tr th:only-of-type {\n",
       "        vertical-align: middle;\n",
       "    }\n",
       "\n",
       "    .dataframe tbody tr th {\n",
       "        vertical-align: top;\n",
       "    }\n",
       "\n",
       "    .dataframe thead th {\n",
       "        text-align: right;\n",
       "    }\n",
       "</style>\n",
       "<table border=\"1\" class=\"dataframe\">\n",
       "  <thead>\n",
       "    <tr style=\"text-align: right;\">\n",
       "      <th></th>\n",
       "      <th>title</th>\n",
       "      <th>selftext</th>\n",
       "      <th>subreddit</th>\n",
       "      <th>created_utc</th>\n",
       "      <th>author</th>\n",
       "      <th>num_comments</th>\n",
       "      <th>score</th>\n",
       "      <th>is_self</th>\n",
       "      <th>timestamp</th>\n",
       "    </tr>\n",
       "  </thead>\n",
       "  <tbody>\n",
       "    <tr>\n",
       "      <th>0</th>\n",
       "      <td>Lawmakers to grill Biden's pick for UN ambassa...</td>\n",
       "      <td>NaN</td>\n",
       "      <td>politics</td>\n",
       "      <td>1611759471</td>\n",
       "      <td>MabintyQ</td>\n",
       "      <td>2</td>\n",
       "      <td>1</td>\n",
       "      <td>False</td>\n",
       "      <td>2021-01-27</td>\n",
       "    </tr>\n",
       "    <tr>\n",
       "      <th>1</th>\n",
       "      <td>What Does R/politics think about US healthcare?</td>\n",
       "      <td>NaN</td>\n",
       "      <td>politics</td>\n",
       "      <td>1611759657</td>\n",
       "      <td>RolledCTY</td>\n",
       "      <td>0</td>\n",
       "      <td>1</td>\n",
       "      <td>False</td>\n",
       "      <td>2021-01-27</td>\n",
       "    </tr>\n",
       "    <tr>\n",
       "      <th>2</th>\n",
       "      <td>Josh Hawley calls out ‘muzzling of America’ in...</td>\n",
       "      <td>NaN</td>\n",
       "      <td>politics</td>\n",
       "      <td>1611759783</td>\n",
       "      <td>76patrioto</td>\n",
       "      <td>2</td>\n",
       "      <td>1</td>\n",
       "      <td>False</td>\n",
       "      <td>2021-01-27</td>\n",
       "    </tr>\n",
       "    <tr>\n",
       "      <th>3</th>\n",
       "      <td>I have election protesters and 'Never Trumpers...</td>\n",
       "      <td>NaN</td>\n",
       "      <td>politics</td>\n",
       "      <td>1611759828</td>\n",
       "      <td>PoliticiansAlwaysLie</td>\n",
       "      <td>73</td>\n",
       "      <td>1</td>\n",
       "      <td>False</td>\n",
       "      <td>2021-01-27</td>\n",
       "    </tr>\n",
       "    <tr>\n",
       "      <th>4</th>\n",
       "      <td>Sen. Patrick Leahy taken to hospital</td>\n",
       "      <td>NaN</td>\n",
       "      <td>politics</td>\n",
       "      <td>1611759867</td>\n",
       "      <td>Marshall221</td>\n",
       "      <td>6</td>\n",
       "      <td>1</td>\n",
       "      <td>False</td>\n",
       "      <td>2021-01-27</td>\n",
       "    </tr>\n",
       "  </tbody>\n",
       "</table>\n",
       "</div>"
      ],
      "text/plain": [
       "                                               title selftext subreddit  \\\n",
       "0  Lawmakers to grill Biden's pick for UN ambassa...      NaN  politics   \n",
       "1    What Does R/politics think about US healthcare?      NaN  politics   \n",
       "2  Josh Hawley calls out ‘muzzling of America’ in...      NaN  politics   \n",
       "3  I have election protesters and 'Never Trumpers...      NaN  politics   \n",
       "4               Sen. Patrick Leahy taken to hospital      NaN  politics   \n",
       "\n",
       "   created_utc                author  num_comments  score  is_self   timestamp  \n",
       "0   1611759471              MabintyQ             2      1    False  2021-01-27  \n",
       "1   1611759657             RolledCTY             0      1    False  2021-01-27  \n",
       "2   1611759783            76patrioto             2      1    False  2021-01-27  \n",
       "3   1611759828  PoliticiansAlwaysLie            73      1    False  2021-01-27  \n",
       "4   1611759867           Marshall221             6      1    False  2021-01-27  "
      ]
     },
     "execution_count": 13,
     "metadata": {},
     "output_type": "execute_result"
    }
   ],
   "source": [
    "pol.head()"
   ]
  },
  {
   "cell_type": "code",
   "execution_count": 14,
   "metadata": {},
   "outputs": [
    {
     "data": {
      "text/html": [
       "<div>\n",
       "<style scoped>\n",
       "    .dataframe tbody tr th:only-of-type {\n",
       "        vertical-align: middle;\n",
       "    }\n",
       "\n",
       "    .dataframe tbody tr th {\n",
       "        vertical-align: top;\n",
       "    }\n",
       "\n",
       "    .dataframe thead th {\n",
       "        text-align: right;\n",
       "    }\n",
       "</style>\n",
       "<table border=\"1\" class=\"dataframe\">\n",
       "  <thead>\n",
       "    <tr style=\"text-align: right;\">\n",
       "      <th></th>\n",
       "      <th>title</th>\n",
       "      <th>selftext</th>\n",
       "      <th>subreddit</th>\n",
       "      <th>created_utc</th>\n",
       "      <th>author</th>\n",
       "      <th>num_comments</th>\n",
       "      <th>score</th>\n",
       "      <th>is_self</th>\n",
       "      <th>timestamp</th>\n",
       "    </tr>\n",
       "  </thead>\n",
       "  <tbody>\n",
       "    <tr>\n",
       "      <th>0</th>\n",
       "      <td>Stephen Crowder hits it on the head in his new...</td>\n",
       "      <td>NaN</td>\n",
       "      <td>Conservative</td>\n",
       "      <td>1611759411</td>\n",
       "      <td>that_was_rhetorical</td>\n",
       "      <td>0</td>\n",
       "      <td>1</td>\n",
       "      <td>False</td>\n",
       "      <td>2021-01-27</td>\n",
       "    </tr>\n",
       "    <tr>\n",
       "      <th>1</th>\n",
       "      <td>Deroy Murdock: Trump answered liberal prayers ...</td>\n",
       "      <td>NaN</td>\n",
       "      <td>Conservative</td>\n",
       "      <td>1611759478</td>\n",
       "      <td>nimobo</td>\n",
       "      <td>2</td>\n",
       "      <td>1</td>\n",
       "      <td>False</td>\n",
       "      <td>2021-01-27</td>\n",
       "    </tr>\n",
       "    <tr>\n",
       "      <th>2</th>\n",
       "      <td>Former Ohio Health Department Director Amy Act...</td>\n",
       "      <td>NaN</td>\n",
       "      <td>Conservative</td>\n",
       "      <td>1611759954</td>\n",
       "      <td>DerKompassar</td>\n",
       "      <td>0</td>\n",
       "      <td>1</td>\n",
       "      <td>False</td>\n",
       "      <td>2021-01-27</td>\n",
       "    </tr>\n",
       "    <tr>\n",
       "      <th>3</th>\n",
       "      <td>The Twitter Censorship Will Be an Unending Ass...</td>\n",
       "      <td>NaN</td>\n",
       "      <td>Conservative</td>\n",
       "      <td>1611759972</td>\n",
       "      <td>GenZConservative1776</td>\n",
       "      <td>0</td>\n",
       "      <td>1</td>\n",
       "      <td>False</td>\n",
       "      <td>2021-01-27</td>\n",
       "    </tr>\n",
       "    <tr>\n",
       "      <th>4</th>\n",
       "      <td>‘I’ll Give You A Word: Money’: Biden Chief Of ...</td>\n",
       "      <td>NaN</td>\n",
       "      <td>Conservative</td>\n",
       "      <td>1611760322</td>\n",
       "      <td>Winterhold2000</td>\n",
       "      <td>1</td>\n",
       "      <td>1</td>\n",
       "      <td>False</td>\n",
       "      <td>2021-01-27</td>\n",
       "    </tr>\n",
       "  </tbody>\n",
       "</table>\n",
       "</div>"
      ],
      "text/plain": [
       "                                               title selftext     subreddit  \\\n",
       "0  Stephen Crowder hits it on the head in his new...      NaN  Conservative   \n",
       "1  Deroy Murdock: Trump answered liberal prayers ...      NaN  Conservative   \n",
       "2  Former Ohio Health Department Director Amy Act...      NaN  Conservative   \n",
       "3  The Twitter Censorship Will Be an Unending Ass...      NaN  Conservative   \n",
       "4  ‘I’ll Give You A Word: Money’: Biden Chief Of ...      NaN  Conservative   \n",
       "\n",
       "   created_utc                author  num_comments  score  is_self   timestamp  \n",
       "0   1611759411   that_was_rhetorical             0      1    False  2021-01-27  \n",
       "1   1611759478                nimobo             2      1    False  2021-01-27  \n",
       "2   1611759954          DerKompassar             0      1    False  2021-01-27  \n",
       "3   1611759972  GenZConservative1776             0      1    False  2021-01-27  \n",
       "4   1611760322        Winterhold2000             1      1    False  2021-01-27  "
      ]
     },
     "execution_count": 14,
     "metadata": {},
     "output_type": "execute_result"
    }
   ],
   "source": [
    "con.head()"
   ]
  },
  {
   "cell_type": "code",
   "execution_count": 16,
   "metadata": {},
   "outputs": [],
   "source": [
    "# Consolidating both dataframes into one\n",
    "df = pd.concat([pol, con])\n",
    "df.reset_index(inplace = True)"
   ]
  },
  {
   "cell_type": "code",
   "execution_count": 17,
   "metadata": {},
   "outputs": [],
   "source": [
    "# Mapping the new dataframe to make \"politics\" subreddit will be made into a 1 and \n",
    "# \"Conservative\" will be made into a 0.\n",
    "subreddit = df['subreddit']\n",
    "df['subreddit'] = df['subreddit'].map(lambda x: 1 if x == 'politics' else 0)"
   ]
  },
  {
   "cell_type": "code",
   "execution_count": 18,
   "metadata": {},
   "outputs": [],
   "source": [
    "df['word_count'] = df['title'].str.split().str.len()"
   ]
  },
  {
   "cell_type": "code",
   "execution_count": 19,
   "metadata": {},
   "outputs": [
    {
     "data": {
      "image/png": "[encoded data removed]",
      "text/plain": [
       "<Figure size 720x720 with 1 Axes>"
      ]
     },
     "metadata": {
      "needs_background": "light"
     },
     "output_type": "display_data"
    }
   ],
   "source": [
    "plt.figure(figsize = (10,10))\n",
    "plt.title('histogram of word count in reddit titles')\n",
    "plt.xlabel('word count')\n",
    "plt.ylabel('number of posts')\n",
    "plt.hist(df['word_count'], ec = 'white');"
   ]
  },
  {
   "cell_type": "markdown",
   "metadata": {},
   "source": [
    "This bar chart illustrates one interesting (and potentially problematic) characteristic of this data set. The vast majority of posts only have a length of 5-20 words, meaning there might be less overall data and useful information than other subreddits which might have paragraphs-long text posts."
   ]
  },
  {
   "cell_type": "code",
   "execution_count": 20,
   "metadata": {},
   "outputs": [],
   "source": [
    "# Saving the dataframe as a csv for future use.\n",
    "# df.to_csv('./data/polcon.csv')"
   ]
  },
  {
   "cell_type": "code",
   "execution_count": 21,
   "metadata": {},
   "outputs": [],
   "source": [
    "df = pd.read_csv('./data/polcon.csv')\n",
    "df.drop(columns = ['Unnamed: 0'], inplace = True)\n",
    "df.drop(columns = 'index', inplace = True)"
   ]
  },
  {
   "cell_type": "code",
   "execution_count": 22,
   "metadata": {},
   "outputs": [
    {
     "data": {
      "text/html": [
       "<div>\n",
       "<style scoped>\n",
       "    .dataframe tbody tr th:only-of-type {\n",
       "        vertical-align: middle;\n",
       "    }\n",
       "\n",
       "    .dataframe tbody tr th {\n",
       "        vertical-align: top;\n",
       "    }\n",
       "\n",
       "    .dataframe thead th {\n",
       "        text-align: right;\n",
       "    }\n",
       "</style>\n",
       "<table border=\"1\" class=\"dataframe\">\n",
       "  <thead>\n",
       "    <tr style=\"text-align: right;\">\n",
       "      <th></th>\n",
       "      <th>title</th>\n",
       "      <th>subreddit</th>\n",
       "      <th>author</th>\n",
       "      <th>num_comments</th>\n",
       "      <th>score</th>\n",
       "      <th>timestamp</th>\n",
       "      <th>word_count</th>\n",
       "    </tr>\n",
       "  </thead>\n",
       "  <tbody>\n",
       "    <tr>\n",
       "      <th>0</th>\n",
       "      <td>Lawmakers to grill Biden's pick for UN ambassa...</td>\n",
       "      <td>1</td>\n",
       "      <td>MabintyQ</td>\n",
       "      <td>2</td>\n",
       "      <td>1</td>\n",
       "      <td>2021-01-27</td>\n",
       "      <td>13</td>\n",
       "    </tr>\n",
       "    <tr>\n",
       "      <th>1</th>\n",
       "      <td>What Does R/politics think about US healthcare?</td>\n",
       "      <td>1</td>\n",
       "      <td>RolledCTY</td>\n",
       "      <td>0</td>\n",
       "      <td>1</td>\n",
       "      <td>2021-01-27</td>\n",
       "      <td>7</td>\n",
       "    </tr>\n",
       "    <tr>\n",
       "      <th>2</th>\n",
       "      <td>Josh Hawley calls out ‘muzzling of America’ in...</td>\n",
       "      <td>1</td>\n",
       "      <td>76patrioto</td>\n",
       "      <td>2</td>\n",
       "      <td>1</td>\n",
       "      <td>2021-01-27</td>\n",
       "      <td>12</td>\n",
       "    </tr>\n",
       "    <tr>\n",
       "      <th>3</th>\n",
       "      <td>I have election protesters and 'Never Trumpers...</td>\n",
       "      <td>1</td>\n",
       "      <td>PoliticiansAlwaysLie</td>\n",
       "      <td>73</td>\n",
       "      <td>1</td>\n",
       "      <td>2021-01-27</td>\n",
       "      <td>16</td>\n",
       "    </tr>\n",
       "    <tr>\n",
       "      <th>4</th>\n",
       "      <td>Sen. Patrick Leahy taken to hospital</td>\n",
       "      <td>1</td>\n",
       "      <td>Marshall221</td>\n",
       "      <td>6</td>\n",
       "      <td>1</td>\n",
       "      <td>2021-01-27</td>\n",
       "      <td>6</td>\n",
       "    </tr>\n",
       "  </tbody>\n",
       "</table>\n",
       "</div>"
      ],
      "text/plain": [
       "                                               title  subreddit  \\\n",
       "0  Lawmakers to grill Biden's pick for UN ambassa...          1   \n",
       "1    What Does R/politics think about US healthcare?          1   \n",
       "2  Josh Hawley calls out ‘muzzling of America’ in...          1   \n",
       "3  I have election protesters and 'Never Trumpers...          1   \n",
       "4               Sen. Patrick Leahy taken to hospital          1   \n",
       "\n",
       "                 author  num_comments  score   timestamp  word_count  \n",
       "0              MabintyQ             2      1  2021-01-27          13  \n",
       "1             RolledCTY             0      1  2021-01-27           7  \n",
       "2            76patrioto             2      1  2021-01-27          12  \n",
       "3  PoliticiansAlwaysLie            73      1  2021-01-27          16  \n",
       "4           Marshall221             6      1  2021-01-27           6  "
      ]
     },
     "execution_count": 22,
     "metadata": {},
     "output_type": "execute_result"
    }
   ],
   "source": [
    "df.head()"
   ]
  },
  {
   "cell_type": "markdown",
   "metadata": {},
   "source": [
    "I tried lemmatizing this data, but did not see any significant change in my scores. Because of this, I've decided to keep all words and characters in the posts, especially since I am hopeful to get as much useful data out of these subreddit titles as possible."
   ]
  },
  {
   "cell_type": "code",
   "execution_count": null,
   "metadata": {},
   "outputs": [],
   "source": []
  },
  {
   "cell_type": "markdown",
   "metadata": {},
   "source": [
    "SOME EDA AND PREP FOR MODELING"
   ]
  },
  {
   "cell_type": "code",
   "execution_count": 20,
   "metadata": {},
   "outputs": [],
   "source": [
    "X = df['title']\n",
    "y = df['subreddit']"
   ]
  },
  {
   "cell_type": "markdown",
   "metadata": {},
   "source": [
    "In addition to english stop-words, I will be including a small collection of words that are ubiquitous in nearly every post on each subreddit. In a scrap notebook, I saw that the top 10-15 words between the two subreddits are identical, so including those words won't improve predictive capability. \n"
   ]
  },
  {
   "cell_type": "code",
   "execution_count": 21,
   "metadata": {},
   "outputs": [],
   "source": [
    "custom = ['trump','biden','election','covid','president','joe','donald','house','gop',\n",
    "         'says','senate','capitol','new','campaign','subreddit_y']\n",
    "combined_words = text.ENGLISH_STOP_WORDS.union(custom)\n",
    "cvec = CountVectorizer(stop_words = combined_words)"
   ]
  },
  {
   "cell_type": "code",
   "execution_count": 22,
   "metadata": {},
   "outputs": [],
   "source": [
    "X_train, X_test, y_train, y_test = train_test_split(X, y, random_state = 28, stratify = y)"
   ]
  },
  {
   "cell_type": "code",
   "execution_count": 23,
   "metadata": {},
   "outputs": [],
   "source": [
    "Xc_train = cvec.fit_transform(X_train)\n",
    "Xc_test = cvec.transform(X_test)"
   ]
  },
  {
   "cell_type": "code",
   "execution_count": 24,
   "metadata": {},
   "outputs": [],
   "source": [
    "X_df = pd.DataFrame(Xc_train.todense(),\n",
    "                    columns=cvec.get_feature_names())"
   ]
  },
  {
   "cell_type": "code",
   "execution_count": 25,
   "metadata": {},
   "outputs": [
    {
     "data": {
      "text/plain": [
       "white          817\n",
       "19             736\n",
       "coronavirus    709\n",
       "people         688\n",
       "democrats      658\n",
       "police         657\n",
       "2020           648\n",
       "news           644\n",
       "black          613\n",
       "court          584\n",
       "georgia        541\n",
       "just           524\n",
       "vote           521\n",
       "america        492\n",
       "china          458\n",
       "dtype: int64"
      ]
     },
     "execution_count": 25,
     "metadata": {},
     "output_type": "execute_result"
    }
   ],
   "source": [
    "X_df.sum().sort_values(ascending = False)[:15]"
   ]
  },
  {
   "cell_type": "code",
   "execution_count": 26,
   "metadata": {},
   "outputs": [
    {
     "data": {
      "image/png": "[encoded data removed]",
      "text/plain": [
       "<Figure size 720x720 with 1 Axes>"
      ]
     },
     "metadata": {
      "needs_background": "light"
     },
     "output_type": "display_data"
    }
   ],
   "source": [
    "# Plotting the top 15 most common words in a bar chart\n",
    "plt.figure(figsize = (10,10))\n",
    "X_df.sum().sort_values(ascending = False).head(15).plot(kind = 'barh');"
   ]
  },
  {
   "cell_type": "markdown",
   "metadata": {},
   "source": [
    "This bar chart shows the top 15 most common words across the entire dataset (after removal of stop words). I am interested to see if these words (possibly when incorporating bigrams) are useful in this analysis. Intuitively, I can guess how many of these words could be used in very different contexts."
   ]
  },
  {
   "cell_type": "code",
   "execution_count": null,
   "metadata": {},
   "outputs": [],
   "source": []
  },
  {
   "cell_type": "markdown",
   "metadata": {},
   "source": [
    "MODELING"
   ]
  },
  {
   "cell_type": "markdown",
   "metadata": {},
   "source": [
    "Initializing TfidfVectorizer to vectorize our X_train and X_test. We will use these \n",
    "throughout the analysis, as TfidfVectorizer should do slightly better when there is such significant overlap between the two subreddits and will weight unique words more heavily."
   ]
  },
  {
   "cell_type": "code",
   "execution_count": 30,
   "metadata": {},
   "outputs": [],
   "source": [
    "tvec = TfidfVectorizer(stop_words = combined_words)\n",
    "Xt_train = tvec.fit_transform(X_train)\n",
    "Xt_test = tvec.transform(X_test)"
   ]
  },
  {
   "cell_type": "code",
   "execution_count": null,
   "metadata": {},
   "outputs": [],
   "source": []
  },
  {
   "cell_type": "markdown",
   "metadata": {},
   "source": [
    "1. Baseline Score"
   ]
  },
  {
   "cell_type": "code",
   "execution_count": 31,
   "metadata": {},
   "outputs": [
    {
     "data": {
      "text/plain": [
       "1    0.550638\n",
       "0    0.449362\n",
       "Name: subreddit, dtype: float64"
      ]
     },
     "execution_count": 31,
     "metadata": {},
     "output_type": "execute_result"
    }
   ],
   "source": [
    "y.value_counts(normalize = True)"
   ]
  },
  {
   "cell_type": "markdown",
   "metadata": {},
   "source": [
    "55.1% of posts come from the \"Politics\" subreddit. The null model (a model which always predicts that a post came from the \"Politics\" subreddit) would be 55.1% accurate, so this is what we hope to beat with our modeling. I am actually not expecting to achieve extraordinarily high accuracy with any model, as there will still be significant overlap between the most common words of the subreddit titles, even with some of the most common words (like \"Trump\", \"Biden\", and \"election\") removed from the models."
   ]
  },
  {
   "cell_type": "code",
   "execution_count": null,
   "metadata": {},
   "outputs": [],
   "source": []
  },
  {
   "cell_type": "markdown",
   "metadata": {},
   "source": [
    "2. Logistic Regression"
   ]
  },
  {
   "cell_type": "markdown",
   "metadata": {},
   "source": [
    "First, we will just fit a default logistic regression and see how well this simple model can beat the null model."
   ]
  },
  {
   "cell_type": "code",
   "execution_count": 32,
   "metadata": {},
   "outputs": [],
   "source": [
    "logreg = LogisticRegression(solver = 'liblinear')"
   ]
  },
  {
   "cell_type": "code",
   "execution_count": 33,
   "metadata": {},
   "outputs": [],
   "source": [
    "param_grid_logreg = [{'penalty' : ['l1','l2']}]"
   ]
  },
  {
   "cell_type": "code",
   "execution_count": 34,
   "metadata": {},
   "outputs": [],
   "source": [
    "logreg_gridsearch = GridSearchCV(logreg,\n",
    "                                param_grid_logreg,\n",
    "                                cv = 5,\n",
    "                                verbose = 1)"
   ]
  },
  {
   "cell_type": "code",
   "execution_count": 35,
   "metadata": {},
   "outputs": [
    {
     "name": "stdout",
     "output_type": "stream",
     "text": [
      "Fitting 5 folds for each of 2 candidates, totalling 10 fits\n"
     ]
    },
    {
     "name": "stderr",
     "output_type": "stream",
     "text": [
      "[Parallel(n_jobs=1)]: Using backend SequentialBackend with 1 concurrent workers.\n",
      "[Parallel(n_jobs=1)]: Done  10 out of  10 | elapsed:    0.4s finished\n"
     ]
    }
   ],
   "source": [
    "logreg_gridsearch.fit(Xt_train, y_train);"
   ]
  },
  {
   "cell_type": "code",
   "execution_count": 36,
   "metadata": {},
   "outputs": [
    {
     "data": {
      "text/plain": [
       "(0.8066572762992068, 0.6846436116979874)"
      ]
     },
     "execution_count": 36,
     "metadata": {},
     "output_type": "execute_result"
    }
   ],
   "source": [
    "logreg_gridsearch.score(Xt_train, y_train), logreg_gridsearch.score(Xt_test, y_test)"
   ]
  },
  {
   "cell_type": "code",
   "execution_count": 37,
   "metadata": {},
   "outputs": [
    {
     "data": {
      "text/plain": [
       "{'penalty': 'l2'}"
      ]
     },
     "execution_count": 37,
     "metadata": {},
     "output_type": "execute_result"
    }
   ],
   "source": [
    "logreg_gridsearch.best_params_"
   ]
  },
  {
   "cell_type": "code",
   "execution_count": 168,
   "metadata": {},
   "outputs": [
    {
     "data": {
      "image/png": "[encoded data removed]",
      "text/plain": [
       "<Figure size 432x288 with 2 Axes>"
      ]
     },
     "metadata": {
      "needs_background": "light"
     },
     "output_type": "display_data"
    }
   ],
   "source": [
    "logreg_preds = logreg_gridsearch.predict(Xt_test)\n",
    "plot_confusion_matrix(logreg_gridsearch, Xt_test, y_test, cmap='Blues', \n",
    "                      values_format='d', display_labels=['Conservative', 'Politics']);\n",
    "\n",
    "tn, fp, fn, tp = confusion_matrix(y_test, logreg_preds).ravel()"
   ]
  },
  {
   "cell_type": "code",
   "execution_count": 169,
   "metadata": {},
   "outputs": [
    {
     "data": {
      "text/plain": [
       "0.5649591685226429"
      ]
     },
     "execution_count": 169,
     "metadata": {},
     "output_type": "execute_result"
    }
   ],
   "source": [
    "spec = tn / (tn + fp)\n",
    "spec"
   ]
  },
  {
   "cell_type": "markdown",
   "metadata": {},
   "source": [
    "Our first model, the completely-default logistic regression, provided a pretty substantial increase in accuracy (more than I had anticipated). The model correctly predicted 68.5% of the test data, but the model is pretty significantly overfit. While more accurate than the null model, the logistic regression had a poor specificity (.56) meaning it struggled to correctly predict true negatives."
   ]
  },
  {
   "cell_type": "code",
   "execution_count": null,
   "metadata": {},
   "outputs": [],
   "source": []
  },
  {
   "cell_type": "markdown",
   "metadata": {},
   "source": [
    "3. KNN"
   ]
  },
  {
   "cell_type": "markdown",
   "metadata": {},
   "source": [
    "Now we will fit a kNN model through gridsearch to optimize parameters. From the outset, I have very low expectations for kNN on this dataset."
   ]
  },
  {
   "cell_type": "code",
   "execution_count": 38,
   "metadata": {},
   "outputs": [],
   "source": [
    "knn = KNeighborsClassifier()\n",
    "\n",
    "# Data must be standardized for kNN\n",
    "ss = StandardScaler(with_mean = False)\n",
    "\n",
    "# Scaling Xt_train and Xt_test\n",
    "Xs_train_knn = ss.fit_transform(Xt_train)\n",
    "Xs_test_knn = ss.transform(Xt_test)"
   ]
  },
  {
   "cell_type": "code",
   "execution_count": 39,
   "metadata": {},
   "outputs": [],
   "source": [
    "# Setting up a dictionary of parameters to test in a gridsearch\n",
    "knn_params = {\n",
    "    'n_neighbors' : [3,5,7,9,11],\n",
    "    'metric' : ['euclidean','manhattan','minkowski'],\n",
    "    'weights' : ['uniform','distance']\n",
    "}"
   ]
  },
  {
   "cell_type": "code",
   "execution_count": 40,
   "metadata": {},
   "outputs": [],
   "source": [
    "knn_gridsearch = GridSearchCV(knn,\n",
    "                             knn_params,\n",
    "                             cv = 5,\n",
    "                             verbose = 1)"
   ]
  },
  {
   "cell_type": "code",
   "execution_count": 54,
   "metadata": {},
   "outputs": [
    {
     "name": "stdout",
     "output_type": "stream",
     "text": [
      "Fitting 5 folds for each of 30 candidates, totalling 150 fits\n"
     ]
    },
    {
     "name": "stderr",
     "output_type": "stream",
     "text": [
      "[Parallel(n_jobs=1)]: Using backend SequentialBackend with 1 concurrent workers.\n",
      "[Parallel(n_jobs=1)]: Done 150 out of 150 | elapsed:  5.4min finished\n"
     ]
    },
    {
     "data": {
      "text/plain": [
       "GridSearchCV(cv=5, estimator=KNeighborsClassifier(),\n",
       "             param_grid={'metric': ['euclidean', 'manhattan', 'minkowski'],\n",
       "                         'n_neighbors': [3, 5, 7, 9, 11],\n",
       "                         'weights': ['uniform', 'distance']},\n",
       "             verbose=1)"
      ]
     },
     "execution_count": 54,
     "metadata": {},
     "output_type": "execute_result"
    }
   ],
   "source": [
    "knn_gridsearch.fit(Xs_train_knn, y_train)"
   ]
  },
  {
   "cell_type": "code",
   "execution_count": 55,
   "metadata": {},
   "outputs": [
    {
     "name": "stdout",
     "output_type": "stream",
     "text": [
      "Best score: 0.548668563745774\n",
      "Best estimator: KNeighborsClassifier(metric='euclidean', n_neighbors=3, weights='distance')\n",
      "Best parameters: {'metric': 'euclidean', 'n_neighbors': 3, 'weights': 'distance'}\n"
     ]
    }
   ],
   "source": [
    "print(f'Best score: {knn_gridsearch.best_score_}')\n",
    "print(f'Best estimator: {knn_gridsearch.best_estimator_}')\n",
    "print(f'Best parameters: {knn_gridsearch.best_params_}')"
   ]
  },
  {
   "cell_type": "code",
   "execution_count": 56,
   "metadata": {},
   "outputs": [],
   "source": [
    "# Manually checking the best parameters from the gridsearch\n",
    "knn_best = KNeighborsClassifier(n_neighbors = 5,\n",
    "                               weights = 'distance',\n",
    "                               metric = 'euclidean')"
   ]
  },
  {
   "cell_type": "code",
   "execution_count": 57,
   "metadata": {},
   "outputs": [
    {
     "data": {
      "text/plain": [
       "KNeighborsClassifier(metric='euclidean', weights='distance')"
      ]
     },
     "execution_count": 57,
     "metadata": {},
     "output_type": "execute_result"
    }
   ],
   "source": [
    "knn_best.fit(Xs_train_knn, y_train)"
   ]
  },
  {
   "cell_type": "code",
   "execution_count": 58,
   "metadata": {},
   "outputs": [
    {
     "data": {
      "text/plain": [
       "(0.9881014159685669, 0.5770043367063271)"
      ]
     },
     "execution_count": 58,
     "metadata": {},
     "output_type": "execute_result"
    }
   ],
   "source": [
    "knn_best.score(Xs_train_knn, y_train), knn_best.score(Xs_test_knn, y_test)"
   ]
  },
  {
   "cell_type": "code",
   "execution_count": 159,
   "metadata": {},
   "outputs": [],
   "source": [
    "knn_preds = knn_best.predict(Xs_test_knn)"
   ]
  },
  {
   "cell_type": "code",
   "execution_count": 165,
   "metadata": {},
   "outputs": [
    {
     "data": {
      "image/png": "[encoded data removed]",
      "text/plain": [
       "<Figure size 432x288 with 2 Axes>"
      ]
     },
     "metadata": {
      "needs_background": "light"
     },
     "output_type": "display_data"
    }
   ],
   "source": [
    "plot_confusion_matrix(knn_best, Xs_test_knn, y_test, cmap='Blues', \n",
    "                      values_format='d', display_labels=['Conservative', 'Politics']);\n",
    "\n",
    "tn, fp, fn, tp = confusion_matrix(y_test, knn_preds).ravel()"
   ]
  },
  {
   "cell_type": "code",
   "execution_count": 167,
   "metadata": {},
   "outputs": [
    {
     "data": {
      "text/plain": [
       "0.42164781906300486"
      ]
     },
     "execution_count": 167,
     "metadata": {},
     "output_type": "execute_result"
    }
   ],
   "source": [
    "# Checking the sensitivity\n",
    "\n",
    "recall = recall_score(y_test, knn_preds)\n",
    "recall"
   ]
  },
  {
   "cell_type": "markdown",
   "metadata": {},
   "source": [
    "Even with the best parameters (which I double-checked by fitting a new model), kNN only achieves a test score of 57.7%, suggesting that this is only negligibly better than the null model. kNN did not succeed at all, which could likely be explained by the fact that there is so much overlap between the two subdreddits. The confusion matrix shows us that the model had a very poor sensitivity (.42) showing that it's ability to correctly identify true positives was very bad."
   ]
  },
  {
   "cell_type": "code",
   "execution_count": null,
   "metadata": {},
   "outputs": [],
   "source": []
  },
  {
   "cell_type": "markdown",
   "metadata": {},
   "source": [
    "4. Decision Tree, Bagging, Random Forest, Extra Trees Predictions"
   ]
  },
  {
   "cell_type": "markdown",
   "metadata": {},
   "source": [
    "For this step, we will first compare the cross_val_score of Decision Tree, Bagging, Random Forest, and Extra Trees models, then pick the best score to further develop through a gridsearch."
   ]
  },
  {
   "cell_type": "code",
   "execution_count": 42,
   "metadata": {},
   "outputs": [],
   "source": [
    "dt = DecisionTreeClassifier(random_state = 28)\n",
    "bag = BaggingClassifier(random_state = 28)\n",
    "rf = RandomForestClassifier(random_state = 28)\n",
    "et = ExtraTreesClassifier(random_state = 28)"
   ]
  },
  {
   "cell_type": "code",
   "execution_count": null,
   "metadata": {},
   "outputs": [],
   "source": [
    "# Commenting out next two cells since they take very long to run.\n",
    "\n",
    "# print(cross_val_score(dt, Xt_train, y_train, cv = 5).mean())\n",
    "# print(cross_val_score(bag, Xt_train, y_train, cv = 5).mean())\n",
    "# print(cross_val_score(rf, Xt_train, y_train, cv = 5).mean())\n",
    "# print(cross_val_score(et, Xt_train, y_train, cv = 5).mean())"
   ]
  },
  {
   "cell_type": "code",
   "execution_count": null,
   "metadata": {},
   "outputs": [],
   "source": [
    "# print(cross_val_score(dt, Xt_test, y_test, cv = 5).mean())\n",
    "# print(cross_val_score(bag, Xt_test, y_test, cv = 5).mean())\n",
    "# print(cross_val_score(rf, Xt_test, y_test, cv = 5).mean())\n",
    "# print(cross_val_score(et, Xt_test, y_test, cv = 5).mean())"
   ]
  },
  {
   "cell_type": "markdown",
   "metadata": {},
   "source": [
    "Random Forest provided the best result on the test data (64.8%), so we will do a gridsearch to find the best parameters."
   ]
  },
  {
   "cell_type": "code",
   "execution_count": 83,
   "metadata": {},
   "outputs": [],
   "source": [
    "rf = RandomForestClassifier()"
   ]
  },
  {
   "cell_type": "code",
   "execution_count": 52,
   "metadata": {},
   "outputs": [
    {
     "data": {
      "text/plain": [
       "RandomForestClassifier()"
      ]
     },
     "execution_count": 52,
     "metadata": {},
     "output_type": "execute_result"
    }
   ],
   "source": [
    "rf.fit(Xt_train, y_train)"
   ]
  },
  {
   "cell_type": "code",
   "execution_count": 53,
   "metadata": {},
   "outputs": [
    {
     "data": {
      "text/plain": [
       "(0.9881014159685669, 0.6863115756699655)"
      ]
     },
     "execution_count": 53,
     "metadata": {},
     "output_type": "execute_result"
    }
   ],
   "source": [
    "rf.score(Xt_train, y_train), rf.score(Xt_test, y_test)"
   ]
  },
  {
   "cell_type": "code",
   "execution_count": 84,
   "metadata": {},
   "outputs": [
    {
     "name": "stdout",
     "output_type": "stream",
     "text": [
      "Fitting 3 folds for each of 16 candidates, totalling 48 fits\n"
     ]
    },
    {
     "name": "stderr",
     "output_type": "stream",
     "text": [
      "[Parallel(n_jobs=-1)]: Using backend LokyBackend with 8 concurrent workers.\n",
      "[Parallel(n_jobs=-1)]: Done  48 out of  48 | elapsed:  6.3min finished\n"
     ]
    },
    {
     "name": "stdout",
     "output_type": "stream",
     "text": [
      "Best score: 0.6718435793412011\n",
      "Best estimator: RandomForestClassifier(min_samples_leaf=3, n_estimators=200)\n",
      "Best parameters: {'max_depth': None, 'max_features': 'auto', 'min_samples_leaf': 3, 'min_samples_split': 2, 'n_estimators': 200}\n"
     ]
    }
   ],
   "source": [
    "rf_params = {\n",
    "    'n_estimators': [100, 200],\n",
    "    'max_depth': [None, 5],\n",
    "    'min_samples_split': [2, 3],\n",
    "    'min_samples_leaf': [2, 3],\n",
    "    'max_features': ['auto']   # 'auto' = sqrt\n",
    "}\n",
    "\n",
    "rf_gridsearch = GridSearchCV(rf,\n",
    "                             param_grid=rf_params,\n",
    "                             cv=3,\n",
    "                             n_jobs = -1,\n",
    "                             verbose = True)\n",
    "\n",
    "rf_gridsearch.fit(Xt_train, y_train)\n",
    "\n",
    "print(f'Best score: {rf_gridsearch.best_score_}')\n",
    "print(f'Best estimator: {rf_gridsearch.best_estimator_}')\n",
    "print(f'Best parameters: {rf_gridsearch.best_params_}')"
   ]
  },
  {
   "cell_type": "markdown",
   "metadata": {},
   "source": [
    "Even after the GridSearch, the best result achieved by the Random Forest Classifier was 68.6% (on the test data). Strangely, this was a model without any max depth, meaning the model turned out to be extremely overfit, but the test accuracy was still superior to any model in the gridsearch where a max_depth value was implmented. Still, this is not necessarily a high level of accuracy and does not surpass the logistic regression by much--due to how much this model is overfit, I would still call the logistic regression the \"superior\" model."
   ]
  },
  {
   "cell_type": "code",
   "execution_count": null,
   "metadata": {},
   "outputs": [],
   "source": []
  },
  {
   "cell_type": "markdown",
   "metadata": {},
   "source": [
    "5. Multinomial Naive Bayes (w/ TfidfVectorizer and CountVectorizer)"
   ]
  },
  {
   "cell_type": "markdown",
   "metadata": {},
   "source": [
    "Now we will run Multinomial Naive Bayes with both the TfidfVectorizer and the CountVectorizer to see if this will change anything (all models thus far have used Tfidf). We will do a gridsearch for a model with both vectorizers and compare the results."
   ]
  },
  {
   "cell_type": "code",
   "execution_count": 63,
   "metadata": {},
   "outputs": [],
   "source": [
    "# First setting up the Tfidf version of this model\n",
    "\n",
    "pipe_tvec = Pipeline([\n",
    "    ('tvec', TfidfVectorizer(stop_words = combined_words)),\n",
    "    ('nb', MultinomialNB())\n",
    "])"
   ]
  },
  {
   "cell_type": "code",
   "execution_count": 64,
   "metadata": {},
   "outputs": [],
   "source": [
    "pipe_tvec_params = {\n",
    "    'tvec__max_features': [2000, 3000, 4000, 5000, 10000],\n",
    "    'tvec__stop_words': [None, 'english', combined_words],\n",
    "    'tvec__ngram_range': [(1,1), (1,2)]\n",
    "}"
   ]
  },
  {
   "cell_type": "code",
   "execution_count": 65,
   "metadata": {},
   "outputs": [],
   "source": [
    "tvec_nb = GridSearchCV(pipe_tvec,\n",
    "                      pipe_tvec_params,\n",
    "                      cv = 5)"
   ]
  },
  {
   "cell_type": "code",
   "execution_count": 66,
   "metadata": {},
   "outputs": [
    {
     "data": {
      "text/plain": [
       "GridSearchCV(cv=5,\n",
       "             estimator=Pipeline(steps=[('tvec',\n",
       "                                        TfidfVectorizer(stop_words=frozenset({'a',\n",
       "                                                                              'about',\n",
       "                                                                              'above',\n",
       "                                                                              'across',\n",
       "                                                                              'after',\n",
       "                                                                              'afterwards',\n",
       "                                                                              'again',\n",
       "                                                                              'against',\n",
       "                                                                              'all',\n",
       "                                                                              'almost',\n",
       "                                                                              'alone',\n",
       "                                                                              'along',\n",
       "                                                                              'already',\n",
       "                                                                              'also',\n",
       "                                                                              'although',\n",
       "                                                                              'always',\n",
       "                                                                              'am',\n",
       "                                                                              'among',\n",
       "                                                                              'amongst',\n",
       "                                                                              'amoungst',\n",
       "                                                                              'amount',\n",
       "                                                                              'an',\n",
       "                                                                              'and',\n",
       "                                                                              'another',\n",
       "                                                                              'any',\n",
       "                                                                              'anyhow',\n",
       "                                                                              'anyone',\n",
       "                                                                              'anything',\n",
       "                                                                              'anyway',\n",
       "                                                                              'anywhere', ...})...\n",
       "             param_grid={'tvec__max_features': [2000, 3000, 4000, 5000, 10000],\n",
       "                         'tvec__ngram_range': [(1, 1), (1, 2)],\n",
       "                         'tvec__stop_words': [None, 'english',\n",
       "                                              frozenset({'a', 'about', 'above',\n",
       "                                                         'across', 'after',\n",
       "                                                         'afterwards', 'again',\n",
       "                                                         'against', 'all',\n",
       "                                                         'almost', 'alone',\n",
       "                                                         'along', 'already',\n",
       "                                                         'also', 'although',\n",
       "                                                         'always', 'am',\n",
       "                                                         'among', 'amongst',\n",
       "                                                         'amoungst', 'amount',\n",
       "                                                         'an', 'and', 'another',\n",
       "                                                         'any', 'anyhow',\n",
       "                                                         'anyone', 'anything',\n",
       "                                                         'anyway', 'anywhere', ...})]})"
      ]
     },
     "execution_count": 66,
     "metadata": {},
     "output_type": "execute_result"
    }
   ],
   "source": [
    "tvec_nb.fit(X_train, y_train)"
   ]
  },
  {
   "cell_type": "code",
   "execution_count": 67,
   "metadata": {},
   "outputs": [
    {
     "data": {
      "text/plain": [
       "(0.7582474608940618, 0.6949849883242522)"
      ]
     },
     "execution_count": 67,
     "metadata": {},
     "output_type": "execute_result"
    }
   ],
   "source": [
    "tvec_nb.score(X_train, y_train), tvec_nb.score(X_test, y_test)"
   ]
  },
  {
   "cell_type": "code",
   "execution_count": 68,
   "metadata": {},
   "outputs": [
    {
     "data": {
      "text/plain": [
       "{'tvec__max_features': 10000,\n",
       " 'tvec__ngram_range': (1, 2),\n",
       " 'tvec__stop_words': None}"
      ]
     },
     "execution_count": 68,
     "metadata": {},
     "output_type": "execute_result"
    }
   ],
   "source": [
    "tvec_nb.best_params_"
   ]
  },
  {
   "cell_type": "code",
   "execution_count": 69,
   "metadata": {},
   "outputs": [],
   "source": [
    "# Same as above, but using CountVectorizer instead of TfidfVectorizer\n",
    "pipe_cvec = Pipeline([\n",
    "    ('cvec', CountVectorizer()),\n",
    "    ('nb', MultinomialNB())\n",
    "])"
   ]
  },
  {
   "cell_type": "code",
   "execution_count": 70,
   "metadata": {},
   "outputs": [],
   "source": [
    "pipe_cvec_params = {\n",
    "    'cvec__max_features': [2000, 3000, 4000, 5000, 10000],\n",
    "    'cvec__min_df': [2, 3],\n",
    "    'cvec__max_df': [.9, .95],\n",
    "    'cvec__ngram_range': [(1,1), (1,2)]\n",
    "}"
   ]
  },
  {
   "cell_type": "code",
   "execution_count": 71,
   "metadata": {},
   "outputs": [],
   "source": [
    "cvec_nb = GridSearchCV(pipe_cvec,\n",
    "                       pipe_cvec_params,\n",
    "                       cv = 5)"
   ]
  },
  {
   "cell_type": "code",
   "execution_count": 72,
   "metadata": {},
   "outputs": [
    {
     "data": {
      "text/plain": [
       "GridSearchCV(cv=5,\n",
       "             estimator=Pipeline(steps=[('cvec', CountVectorizer()),\n",
       "                                       ('nb', MultinomialNB())]),\n",
       "             param_grid={'cvec__max_df': [0.9, 0.95],\n",
       "                         'cvec__max_features': [2000, 3000, 4000, 5000, 10000],\n",
       "                         'cvec__min_df': [2, 3],\n",
       "                         'cvec__ngram_range': [(1, 1), (1, 2)]})"
      ]
     },
     "execution_count": 72,
     "metadata": {},
     "output_type": "execute_result"
    }
   ],
   "source": [
    "cvec_nb.fit(X_train, y_train)"
   ]
  },
  {
   "cell_type": "code",
   "execution_count": 73,
   "metadata": {},
   "outputs": [
    {
     "data": {
      "text/plain": [
       "(0.7678478760471495, 0.6983209162682086)"
      ]
     },
     "execution_count": 73,
     "metadata": {},
     "output_type": "execute_result"
    }
   ],
   "source": [
    "cvec_nb.score(X_train, y_train), cvec_nb.score(X_test, y_test)"
   ]
  },
  {
   "cell_type": "code",
   "execution_count": 74,
   "metadata": {},
   "outputs": [
    {
     "data": {
      "text/plain": [
       "{'cvec__max_df': 0.9,\n",
       " 'cvec__max_features': 10000,\n",
       " 'cvec__min_df': 2,\n",
       " 'cvec__ngram_range': (1, 1)}"
      ]
     },
     "execution_count": 74,
     "metadata": {},
     "output_type": "execute_result"
    }
   ],
   "source": [
    "cvec_nb.best_params_"
   ]
  },
  {
   "cell_type": "markdown",
   "metadata": {},
   "source": [
    "So far the Multinomial Naive Bayes with CountVectorizer has provided the highest accuracy on the test data at 69.8%. This model also has the benefit of not being nearly as overfit as many other models thus far have been. Interestingly, the multinomial naive Bayes model with TfidfVectorizer's best parameters look pretty different, as the TfidfVectorizer model included bigrams in it's best parameters (something I had assumed would be very useful in this analysis, but hasn't shown up yet). \n",
    "\n",
    "Overall, the MultinomialNB with CountVectorizer has produced the best accuracy and seems to be the least overfit. This makes it the best model used so far."
   ]
  },
  {
   "cell_type": "code",
   "execution_count": null,
   "metadata": {},
   "outputs": [],
   "source": []
  },
  {
   "cell_type": "markdown",
   "metadata": {},
   "source": [
    "6. GradientBoosting and VotingClassifier"
   ]
  },
  {
   "cell_type": "markdown",
   "metadata": {},
   "source": [
    "Now we will use GradientBoosting and VotingClassifier. This will be done through a gridseach in the hopes that the best hyperparameters will provide an improvement over the ensemble models used before."
   ]
  },
  {
   "cell_type": "code",
   "execution_count": 75,
   "metadata": {},
   "outputs": [],
   "source": [
    "gboost = GradientBoostingClassifier()"
   ]
  },
  {
   "cell_type": "code",
   "execution_count": 77,
   "metadata": {},
   "outputs": [],
   "source": [
    "# Commenting out as this cell takes an incredibly long time to run. Output is saved below.\n",
    "\n",
    "# gboost_params = {'max_depth' : [2,3,4],\n",
    "#                 'n_estimators' : [100, 125, 150],\n",
    "#                 'learning_rate' : [0.08, .1, .12]}\n",
    "\n",
    "# gb_gridsearch = GridSearchCV(gboost,\n",
    "#                      gboost_params,\n",
    "#                      cv = 5)\n",
    "\n",
    "# # gb_gridsearch.fit(Xt_train, y_train)\n",
    "# print(gb_gridsearch.best_score_)\n",
    "# gb_gridsearch.best_params_"
   ]
  },
  {
   "cell_type": "code",
   "execution_count": 78,
   "metadata": {},
   "outputs": [],
   "source": [
    "# gb_gridsearch.score(Xt_train, y_train), gb_gridsearch.score(Xt_test, y_test)"
   ]
  },
  {
   "cell_type": "code",
   "execution_count": 79,
   "metadata": {},
   "outputs": [],
   "source": [
    "# Manually saving this information in variables to avoid having to run this model again.\n",
    "\n",
    "gboost_best_params = {'learning_rate' : .12,\n",
    "                     'max_depth' : 4,\n",
    "                     'n_estimators' : 150}\n",
    "\n",
    "gboost_best_score = .624545982293557\n",
    "\n",
    "gb_train_score = .676662465712803\n",
    "gb_test_score = .6290448126320471"
   ]
  },
  {
   "cell_type": "code",
   "execution_count": 80,
   "metadata": {},
   "outputs": [],
   "source": [
    "# Also commenting this out as it takes an incredibly long time to run.\n",
    "\n",
    "# vote = VotingClassifier([('tree', DecisionTreeClassifier()),\n",
    "#                          ('ada', AdaBoostClassifier()),\n",
    "#                          ('gb', GradientBoostingClassifier())],\n",
    "#                         voting = 'hard',\n",
    "#                        verbose = 1)\n",
    "\n",
    "# vote_params = {\n",
    "#     'ada__n_estimators' : [50,75],\n",
    "#     'ada__learning_rate' : [.9, 1],\n",
    "    \n",
    "#     'gb__n_estimators' : [100,125],\n",
    "#     'gb__max_depth' : [2,3],\n",
    "#     'gb__learning_rate' : [.9,1],\n",
    "    \n",
    "#     'tree__max_depth' : [None, 5]\n",
    "# }\n",
    "\n",
    "# vote_gridsearch = GridSearchCV(vote,\n",
    "#                   vote_params,\n",
    "#                   cv = 3)\n",
    "\n",
    "# vote_gridsearch.fit(Xt_train, y_train)\n",
    "# vote_gridsearch.best_params_\n",
    "\n",
    "# vote_gridsearch.score(Xt_train, y_train), vote_gridsearch.score(Xt_test, y_test)"
   ]
  },
  {
   "cell_type": "markdown",
   "metadata": {},
   "source": [
    "Neither boost model provided an improved score. I am a little surprised at the lack of performance of these models, so I would assume that the hyperparameters were not optimal. "
   ]
  },
  {
   "cell_type": "code",
   "execution_count": null,
   "metadata": {},
   "outputs": [],
   "source": []
  },
  {
   "cell_type": "markdown",
   "metadata": {},
   "source": [
    "Compiling scores of all models in a dataframe for further analysis."
   ]
  },
  {
   "cell_type": "code",
   "execution_count": 96,
   "metadata": {},
   "outputs": [],
   "source": [
    "score_dict = {\n",
    "    'model' : ['null_model','logistic_regression','kNN','random_forest','multinomial_nb','g_boost'],\n",
    "    'test_accuracy' : [.55, .685, .577, .686, .698, .629]\n",
    "}"
   ]
  },
  {
   "cell_type": "code",
   "execution_count": 112,
   "metadata": {},
   "outputs": [],
   "source": [
    "score_df = pd.DataFrame.from_dict(score_dict, dtype = float).sort_values(by = 'test_accuracy').reset_index().drop(columns = 'index')"
   ]
  },
  {
   "cell_type": "code",
   "execution_count": 113,
   "metadata": {},
   "outputs": [
    {
     "data": {
      "text/html": [
       "<div>\n",
       "<style scoped>\n",
       "    .dataframe tbody tr th:only-of-type {\n",
       "        vertical-align: middle;\n",
       "    }\n",
       "\n",
       "    .dataframe tbody tr th {\n",
       "        vertical-align: top;\n",
       "    }\n",
       "\n",
       "    .dataframe thead th {\n",
       "        text-align: right;\n",
       "    }\n",
       "</style>\n",
       "<table border=\"1\" class=\"dataframe\">\n",
       "  <thead>\n",
       "    <tr style=\"text-align: right;\">\n",
       "      <th></th>\n",
       "      <th>model</th>\n",
       "      <th>test_accuracy</th>\n",
       "    </tr>\n",
       "  </thead>\n",
       "  <tbody>\n",
       "    <tr>\n",
       "      <th>0</th>\n",
       "      <td>null_model</td>\n",
       "      <td>0.550</td>\n",
       "    </tr>\n",
       "    <tr>\n",
       "      <th>1</th>\n",
       "      <td>kNN</td>\n",
       "      <td>0.577</td>\n",
       "    </tr>\n",
       "    <tr>\n",
       "      <th>2</th>\n",
       "      <td>g_boost</td>\n",
       "      <td>0.629</td>\n",
       "    </tr>\n",
       "    <tr>\n",
       "      <th>3</th>\n",
       "      <td>logistic_regression</td>\n",
       "      <td>0.685</td>\n",
       "    </tr>\n",
       "    <tr>\n",
       "      <th>4</th>\n",
       "      <td>random_forest</td>\n",
       "      <td>0.686</td>\n",
       "    </tr>\n",
       "    <tr>\n",
       "      <th>5</th>\n",
       "      <td>multinomial_nb</td>\n",
       "      <td>0.698</td>\n",
       "    </tr>\n",
       "  </tbody>\n",
       "</table>\n",
       "</div>"
      ],
      "text/plain": [
       "                 model  test_accuracy\n",
       "0           null_model          0.550\n",
       "1                  kNN          0.577\n",
       "2              g_boost          0.629\n",
       "3  logistic_regression          0.685\n",
       "4        random_forest          0.686\n",
       "5       multinomial_nb          0.698"
      ]
     },
     "execution_count": 113,
     "metadata": {},
     "output_type": "execute_result"
    }
   ],
   "source": [
    "score_df"
   ]
  },
  {
   "cell_type": "code",
   "execution_count": 170,
   "metadata": {},
   "outputs": [
    {
     "data": {
      "image/png": "[encoded data removed]",
      "text/plain": [
       "<Figure size 720x720 with 1 Axes>"
      ]
     },
     "metadata": {
      "needs_background": "light"
     },
     "output_type": "display_data"
    }
   ],
   "source": [
    "plt.figure(figsize = (10,10))\n",
    "plt.ylim(ymin = .525, ymax = .72)\n",
    "plt.title('bar chart of model accuracy')\n",
    "plt.xlabel('model')\n",
    "plt.ylabel('test accuracy')\n",
    "plt.bar(score_df['model'], score_df['test_accuracy'], ec = 'black');"
   ]
  },
  {
   "cell_type": "markdown",
   "metadata": {},
   "source": [
    "The above bar chart shows the relative accuracy of all the models that were trained in this analysis. Compared to the null model, each of the models provided an increase in test accuracy. Due to the high overlap of the NLP data between the two subreddits, kNN did by far the worst job at predicting between the \"Politics\" and \"Conservative\" subreddits. The best model was Multinomial Naive Bayes, which achieved a 69.8% accuracy rate on predictions. "
   ]
  },
  {
   "cell_type": "code",
   "execution_count": null,
   "metadata": {},
   "outputs": [],
   "source": []
  },
  {
   "cell_type": "markdown",
   "metadata": {},
   "source": [
    "METRICS ON BEST MODEL"
   ]
  },
  {
   "cell_type": "code",
   "execution_count": 171,
   "metadata": {},
   "outputs": [],
   "source": [
    "cvec_preds = cvec_nb.predict(X_test)"
   ]
  },
  {
   "cell_type": "code",
   "execution_count": 172,
   "metadata": {},
   "outputs": [
    {
     "data": {
      "text/plain": [
       "array([[2557, 1484],\n",
       "       [1229, 3723]])"
      ]
     },
     "execution_count": 172,
     "metadata": {},
     "output_type": "execute_result"
    }
   ],
   "source": [
    "confusion_matrix(y_test,\n",
    "                cvec_preds)"
   ]
  },
  {
   "cell_type": "code",
   "execution_count": 173,
   "metadata": {},
   "outputs": [
    {
     "data": {
      "image/png": "[encoded data removed]",
      "text/plain": [
       "<Figure size 432x288 with 2 Axes>"
      ]
     },
     "metadata": {
      "needs_background": "light"
     },
     "output_type": "display_data"
    }
   ],
   "source": [
    "plot_confusion_matrix(cvec_nb, X_test, y_test, cmap='Blues', \n",
    "                      values_format='d', display_labels=['Conservative', 'Politics']);"
   ]
  },
  {
   "cell_type": "markdown",
   "metadata": {},
   "source": [
    "Particularly compared to the kNN confusion matrix, the MultinomialNB model is much closer to the kind of result we were hoping to achieve, with decent accuracy and similar sensitivity and specificity. The model still made a large number of incorrect predictions, but this is to be expected based on the data."
   ]
  },
  {
   "cell_type": "code",
   "execution_count": 175,
   "metadata": {},
   "outputs": [
    {
     "data": {
      "text/plain": [
       "0.7518174474959612"
      ]
     },
     "execution_count": 175,
     "metadata": {},
     "output_type": "execute_result"
    }
   ],
   "source": [
    "recall = recall_score(y_test, preds)\n",
    "recall"
   ]
  },
  {
   "cell_type": "code",
   "execution_count": 176,
   "metadata": {},
   "outputs": [
    {
     "data": {
      "text/plain": [
       "0.7149990397541771"
      ]
     },
     "execution_count": 176,
     "metadata": {},
     "output_type": "execute_result"
    }
   ],
   "source": [
    "precision = precision_score(y_test, preds)\n",
    "precision"
   ]
  },
  {
   "cell_type": "code",
   "execution_count": 181,
   "metadata": {},
   "outputs": [
    {
     "data": {
      "text/plain": [
       "0.7599226266791237"
      ]
     },
     "execution_count": 181,
     "metadata": {},
     "output_type": "execute_result"
    }
   ],
   "source": [
    "roc_auc_score(y_test,\n",
    "              cvec_nb.predict_proba(X_test)[:,1])"
   ]
  },
  {
   "cell_type": "code",
   "execution_count": 182,
   "metadata": {},
   "outputs": [
    {
     "data": {
      "image/png": "[encoded data removed]",
      "text/plain": [
       "<Figure size 432x288 with 1 Axes>"
      ]
     },
     "metadata": {
      "needs_background": "light"
     },
     "output_type": "display_data"
    }
   ],
   "source": [
    "plot_roc_curve(cvec_nb,\n",
    "               X_test,\n",
    "               y_test)\n",
    "plt.plot([0,1],[0,1], label = 'baseline', linestyle = '--')\n",
    "plt.legend();"
   ]
  },
  {
   "cell_type": "markdown",
   "metadata": {},
   "source": [
    "I would describe each of these metrics as \"decent\". I had not expected to achieve much predictive power at the outset of the project, so roughly 70% accuracy and a .75 ROC-AUC score surpass my expectations and seem fairly acceptable for such similar subreddits.\n",
    "\n",
    "Ultimately, MultinomialNB performed the best on this set of data. The model achieved a .76 ROC-AUC score, which is basically right in the middle between as bad as a model can be and as good as a model can be. I was unsure that any of these models would be able to achieve any significant increase in accuracy compared to the null model due to the overlap in word choice between the two subreddits, so a near 70% accuracy in a model that has relatively low variance is satisfactory to me.\n",
    "\n",
    "I did some modeling on the side with some of the other data included in the original dataframe (like number of comments, score, and word count) and was unable to surpass these NLP models (while some came close). Future analysis may want to look more at the numerical statistics of Reddit posts, as this would be far less computationally-expensive and likely more interpretable. It would also allow for more feature engineering, which could be extremely useful when comparing extremely-similar subreddits."
   ]
  }
 ],
 "metadata": {
  "kernelspec": {
   "display_name": "Python 3",
   "language": "python",
   "name": "python3"
  },
  "language_info": {
   "codemirror_mode": {
    "name": "ipython",
    "version": 3
   },
   "file_extension": ".py",
   "mimetype": "text/x-python",
   "name": "python",
   "nbconvert_exporter": "python",
   "pygments_lexer": "ipython3",
   "version": "3.8.5"
  }
 },
 "nbformat": 4,
 "nbformat_minor": 4
}
